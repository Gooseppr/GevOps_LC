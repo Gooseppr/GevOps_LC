{
 "cells": [
  {
   "cell_type": "markdown",
   "id": "9d2e6932",
   "metadata": {},
   "source": [
    "Version de Grégoire"
   ]
  },
  {
   "cell_type": "code",
   "execution_count": null,
   "id": "ac6864c7",
   "metadata": {
    "vscode": {
     "languageId": "plaintext"
    }
   },
   "outputs": [],
   "source": [
    "file = open(\"../data/metrics.csv\", \"r\", encoding=\"utf-8\")\n",
    "\n",
    "lines = file.readlines()\n",
    "\n",
    "file.close()\n",
    "\n",
    "if lines == []:\n",
    "        print(\"Le fichier est vide ou introuvable\")\n",
    "else:\n",
    "        print(lines)\n",
    "\n",
    "file_words = []\n",
    "for line in lines:\n",
    "        file_words.extend(line.replace(\"\\n\", \"\").split())\n",
    "print(file_words)"
   ]
  },
  {
   "cell_type": "markdown",
   "id": "fc2124f1",
   "metadata": {},
   "source": [
    "Version de LaCapsule"
   ]
  },
  {
   "cell_type": "code",
   "execution_count": null,
   "id": "64d34a57",
   "metadata": {
    "vscode": {
     "languageId": "plaintext"
    }
   },
   "outputs": [],
   "source": [
    "file = open(\"../data/metrics.csv\", \"r\", encoding=\"utf-8\")\n",
    "\n",
    "lines = file.readlines()\n",
    "\n",
    "file.close()\n",
    "\n",
    "data = []\n",
    "\n",
    "if lines == []:\n",
    "  print(\"Le fichier est vide ou introuvable\")\n",
    "else:\n",
    "  for line in lines[1:]:\n",
    "    parts = line.strip().split(\",\")\n",
    "\n",
    "    # Ici, pour chaque ligne, on split en 2 pour récupérer les données à c>    #if len(parts) == 2:\n",
    "      metric = parts[0]\n",
    "      value = parts[1]\n",
    "      data.append([metric, value])\n",
    "print(data)"
   ]
  },
  {
   "cell_type": "markdown",
   "id": "970000f3",
   "metadata": {},
   "source": [
    "Version de Guillaume"
   ]
  },
  {
   "cell_type": "code",
   "execution_count": null,
   "id": "81e51d53",
   "metadata": {
    "vscode": {
     "languageId": "plaintext"
    }
   },
   "outputs": [],
   "source": [
    "file = open(\"../data/metrics.csv\", \"r\", encoding=\"utf-8\")\n",
    "\n",
    "lines = file.readlines()\n",
    "\n",
    "file.close()\n",
    "\n",
    "data = []\n",
    "\n",
    "if lines == []:\n",
    "  print(\"Le fichier est vide ou introuvable\")\n",
    "else:\n",
    "  for line in lines[1:]:\n",
    "    data.append(line.strip().split(\",\"))\n",
    "\n",
    "    # Ici, pour chaque ligne, on split en 2 pour récupérer les données à c>    #if len(parts) == 2:\n",
    "     # metric = parts[0]\n",
    "      #value = parts[1]\n",
    "      #data.append([metric, value])\n",
    "print(data)"
   ]
  }
 ],
 "metadata": {
  "language_info": {
   "name": "python"
  }
 },
 "nbformat": 4,
 "nbformat_minor": 5
}
